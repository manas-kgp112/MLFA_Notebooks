{
 "cells": [
  {
   "cell_type": "markdown",
   "metadata": {},
   "source": [
    "Condensed K-Nearest Neighbour : The main aim of this algorithm is to reducethe size of training sample batch. Condensed nearest neighbor (CNN, the Hart algorithm) is an algorithm designed to reduce the data set for k-NN classification. It selects the set of prototypes 'P' from the training data, such that 1NN with 'P' can classify the examples almost as accurately as 1NN does with the whole data set.\n",
    "\n"
   ]
  },
  {
   "cell_type": "markdown",
   "metadata": {},
   "source": [
    "Logistic Regression Classifier : Logistic regression is a classification algorithm used to assign observations to a discrete set of classes. Logistic Regression is used when the dependent variable (output in most cases) is binary or limited.\n",
    "\n",
    "For example consider a problem in which people are marked as obese and non-obese wrt their weights.Here [6 > y > 3] may be classified as obese and [3 > y > 0] may be classified as obese.\n",
    "\n",
    "![#](images/classification-linear-regression-plot.png \"Classification using Linear Regression\")\n",
    "\n",
    "Let's take a case into consideration of {x=0.92 and y=3.2}. Seeing the plot of linear regression the person ,may be considered as non-obese. \n",
    "\n",
    "![#](images/classification-linear-regression-plot-x1.png \"x=1\")\n",
    "\n",
    "Now let's add some more points into training sample which will eventually lead into a change in the linear regression plot and now plot the same x-coordinate but altered y coordinate i.e. {x=0.92 and y=2.395}. \n",
    "\n",
    "![#](images/classification-linear-regression-plot-x2.png \"x=2\")\n",
    "\n",
    "This particular plot classifies the person as non-obese but we concluded last time that the person in obese. Why the difference?\n",
    "\n",
    "We use the activation function (sigmoid) to convert the outcome into categorical value. The change in batch of training samples change the plot of linear regression which ultimately confilcts the predictions done with a different training sample batch. How to solve this problem?\n",
    "\n",
    "Look at the plot of Logistic Function/Sigmoid Function (given below) and look how it classifies the data perfectly. The hypothesis of logistic regression tends it to limit the cost function between 0 and 1. (in our case we multiplied by 6 to get a magnified graph).\n",
    "\n",
    "![#](images/sigmoid-function-math.png \"Sigmoid Function Math\")\n",
    "\n",
    "![#](images/sigmoid-function-plot.png \"Sigmoid Function Plot\")\n",
    "\n",
    "It can be used for fraud detection, spam detection, cancer detection, etc.\n",
    "\n",
    "Note : Sigmoid Function is an activation function. We will learn more about activation functions in Deep Neural Networks."
   ]
  },
  {
   "cell_type": "markdown",
   "metadata": {},
   "source": [
    "Well done you did too much in one go. Let's take a break !\n",
    "\n",
    "In next notebook we will learn about Gradient Descent, Stochastic Gradient Descent, Mini-Batch Stochastic Gradient Descent, Adaptive Gradient Descent and their Mathematics, (code also if possible)."
   ]
  }
 ],
 "metadata": {
  "kernelspec": {
   "display_name": "Python 3.10.4 64-bit",
   "language": "python",
   "name": "python3"
  },
  "language_info": {
   "name": "python",
   "version": "3.10.4"
  },
  "orig_nbformat": 4,
  "vscode": {
   "interpreter": {
    "hash": "da744e63d7114826029aa1cdcb8ffc532c4563260d851055c1d03876e527cfe3"
   }
  }
 },
 "nbformat": 4,
 "nbformat_minor": 2
}
