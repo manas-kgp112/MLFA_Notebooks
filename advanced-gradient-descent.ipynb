{
 "cells": [
  {
   "cell_type": "markdown",
   "metadata": {},
   "source": [
    "Gradient Descent is a very interesting topic and the mathematics behind it is very easy and interesting. You have already seen how the graph of error function looks like in case of one parameter.\n",
    "\n",
    "Now in this short notebook we will look at how the graph of error function looks like in case of two parameters. we will also be looking at the code for the gradient descent algorithm."
   ]
  },
  {
   "cell_type": "markdown",
   "metadata": {},
   "source": [
    "The error function with two parameters is plotted as shown\n",
    "\n",
    "![#](images/gradient-descent-multivariate.png \"Multivariate Gradient Descent\")"
   ]
  }
 ],
 "metadata": {
  "kernelspec": {
   "display_name": "Python 3.10.4 64-bit",
   "language": "python",
   "name": "python3"
  },
  "language_info": {
   "name": "python",
   "version": "3.10.4"
  },
  "orig_nbformat": 4,
  "vscode": {
   "interpreter": {
    "hash": "da744e63d7114826029aa1cdcb8ffc532c4563260d851055c1d03876e527cfe3"
   }
  }
 },
 "nbformat": 4,
 "nbformat_minor": 2
}
